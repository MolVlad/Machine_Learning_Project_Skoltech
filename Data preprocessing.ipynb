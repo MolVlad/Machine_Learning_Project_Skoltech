{
 "cells": [
  {
   "cell_type": "code",
   "execution_count": 22,
   "metadata": {},
   "outputs": [],
   "source": [
    "import pandas as pd\n",
    "import numpy as np\n",
    "\n",
    "import warnings\n",
    "warnings.filterwarnings('ignore')"
   ]
  },
  {
   "cell_type": "code",
   "execution_count": 13,
   "metadata": {},
   "outputs": [],
   "source": [
    "directory_with_raw_datasets = \"Raw datasets/\"\n",
    "directory_with_datasets = \"Datasets/\""
   ]
  },
  {
   "cell_type": "code",
   "execution_count": 90,
   "metadata": {},
   "outputs": [],
   "source": [
    "# Air temperatures - Regression\n",
    "# Predict air temperature by external data\n",
    "# Source: \n",
    "# https://archive.ics.uci.edu/ml/datasets/Bias+correction+of+numerical+prediction+model+temperature+forecast\n",
    "\n",
    "df = pd.read_csv(directory_with_raw_datasets+\"Bias_correction_ucl.csv\")\n",
    "df = df.drop(['Date','Next_Tmin'], axis=1)\n",
    "df = df.rename(columns={\"Next_Tmax\": \"Target\"})\n",
    "df = df.dropna()\n",
    "df = df.reset_index(drop=True)\n",
    "\n",
    "df.to_csv(directory_with_datasets+\"Regression/\"+\"bias_correction_temp_forecast.csv\", index=False)"
   ]
  },
  {
   "cell_type": "code",
   "execution_count": 92,
   "metadata": {},
   "outputs": [],
   "source": [
    "# Air quality - Regression\n",
    "# Identify air quality by sensors data\n",
    "# Source: \n",
    "# #https://archive.ics.uci.edu/ml/datasets/Air+Quality\n",
    "\n",
    "df = pd.read_csv(directory_with_raw_datasets+\"AirQualityUCI.csv\",\";\", thousands=',')\n",
    "df = df.drop([\"Unnamed: 15\",\"Unnamed: 16\", \"Date\", \"Time\"],axis=1)\n",
    "df = df.replace(\"-200\",np.NaN)\n",
    "df = df.replace(-200,np.NaN)\n",
    "df = df.dropna()\n",
    "df = df.reset_index(drop=True)\n",
    "df = df.rename(columns={\"AH\": \"Target\"})\n",
    "\n",
    "df.to_csv(directory_with_datasets+\"Regression/\"+\"air_quality.csv\", index=False)"
   ]
  },
  {
   "cell_type": "code",
   "execution_count": 100,
   "metadata": {},
   "outputs": [],
   "source": [
    "# Parkinson disease - Regression\n",
    "# Predict Parkinson disease by voice measurements \n",
    "# Source: \n",
    "#https://archive.ics.uci.edu/ml/datasets/Parkinsons+Telemonitoring\n",
    "\n",
    "df = pd.read_csv(directory_with_raw_datasets+\"parkinsons_updrs.data\")\n",
    "df = df.rename(columns={\"total_UPDRS\": \"Target\"})\n",
    "\n",
    "df.to_csv(directory_with_datasets+\"Regression/\"+\"parkinson_updrs.csv\", index=False)"
   ]
  },
  {
   "cell_type": "code",
   "execution_count": 118,
   "metadata": {},
   "outputs": [],
   "source": [
    "# Wine quality - Classification\n",
    "# Identify wine quality by physicochemical tests\n",
    "# Source: \n",
    "#https://archive.ics.uci.edu/ml/datasets/wine+quality\n",
    "\n",
    "df = pd.read_csv(directory_with_raw_datasets+\"winequality-white.csv\",\";\")\n",
    "df = df.rename(columns={\"quality\": \"Target\"})\n",
    "\n",
    "df.to_csv(directory_with_datasets+\"Classification/\"+\"winequality_white.csv\", index=False)"
   ]
  },
  {
   "cell_type": "code",
   "execution_count": 113,
   "metadata": {},
   "outputs": [],
   "source": [
    "# Robot’s sensors - Classification\n",
    "# Predict action by sensors data\n",
    "# Source: \n",
    "#https://archive.ics.uci.edu/ml/datasets/Wall-Following+Robot+Navigation+Data\n",
    "\n",
    "df = pd.read_csv(directory_with_raw_datasets+\"sensor_readings_24.data\")\n",
    "df.columns=[\"US1\",\"US2\",\"US3\",\"US4\",\"US5\",\"US6\",\"US7\",\"US8\",\"US9\",\"US10\",\n",
    "           \"US11\",\"US12\",\"US13\",\"US14\",\"US15\",\"US16\",\"US17\",\"US18\",\"US19\",\"US20\",\n",
    "           \"US21\",\"US22\",\"US23\",\"US24\",\"Target\"]\n",
    "\n",
    "df.to_csv(directory_with_datasets+\"Classification/\"+\"sensor_readings_24.csv\", index=False)"
   ]
  },
  {
   "cell_type": "code",
   "execution_count": null,
   "metadata": {},
   "outputs": [],
   "source": []
  }
 ],
 "metadata": {
  "kernelspec": {
   "display_name": "Python 3 (ipykernel)",
   "language": "python",
   "name": "python3"
  },
  "language_info": {
   "codemirror_mode": {
    "name": "ipython",
    "version": 3
   },
   "file_extension": ".py",
   "mimetype": "text/x-python",
   "name": "python",
   "nbconvert_exporter": "python",
   "pygments_lexer": "ipython3",
   "version": "3.7.9"
  }
 },
 "nbformat": 4,
 "nbformat_minor": 4
}
